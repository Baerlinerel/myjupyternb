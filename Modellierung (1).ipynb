{
 "cells": [
  {
   "cell_type": "markdown",
   "id": "3b2d3702-4f4b-4968-9ebb-3af42fb00c72",
   "metadata": {
    "tags": []
   },
   "source": [
    "# Modellbildung\n",
    "\n",
    "Basierend auf Cazzolato2011"
   ]
  },
  {
   "cell_type": "markdown",
   "id": "4e86f5f1-d89c-4fc0-a448-26a5baabb91d",
   "metadata": {},
   "source": [
    "**Imports**"
   ]
  },
  {
   "cell_type": "code",
   "execution_count": 37,
   "id": "d2d1f99d-00c1-40bc-8307-b0edb9f34080",
   "metadata": {
    "ExecuteTime": {
     "end_time": "2023-07-21T09:49:22.293170932Z",
     "start_time": "2023-07-21T09:49:21.879344094Z"
    }
   },
   "outputs": [],
   "source": [
    "import sympy as sp \n",
    "#Bib für math. Symbole (sp.) -> zur berechnung. +,-,/,*, Differenzieren, Integrieren, Vereinfachn \n",
    "\n",
    "import pickle\n",
    "#Standart Bib für Python, um Daten zu speicher oder zu Laden (um Variablen, Listen, Arrays etc. in einer Datei zu speichern)\n",
    "\n",
    "from IPython.display import display, Latex\n",
    "#ergmöglicht es math. Ausdrücke in Jupyter oder Latex darzustellen \n",
    "\n",
    "sp.init_printing()\n",
    "#dient auch dazu math. Ausdrücke lesbar dazustellen "
   ]
  },
  {
   "cell_type": "markdown",
   "id": "4c136b20-fbfc-4d01-ace5-050c8b1449ae",
   "metadata": {},
   "source": [
    "**Definition Symbole und Funktionen**"
   ]
  },
  {
   "cell_type": "markdown",
   "id": "6a0abb7b",
   "metadata": {},
   "source": [
    "test new"
   ]
  },
  {
   "cell_type": "code",
   "execution_count": 38,
   "id": "3eee6099-1c35-48f4-873e-eeb560cfe504",
   "metadata": {
    "ExecuteTime": {
     "end_time": "2023-07-21T09:49:22.311305975Z",
     "start_time": "2023-07-21T09:49:22.019270464Z"
    }
   },
   "outputs": [
    {
     "name": "stdout",
     "output_type": "stream",
     "text": [
      "J_1xx\n",
      "Derivative(\\theta_1(t), t)\n"
     ]
    }
   ],
   "source": [
    "g, t = sp.symbols('g t', real=True)\n",
    "J1xx, J1yy, J1zz, J1, J2xx, J2yy, J2zz, J2 = sp.symbols('J_1xx J_1yy J_1zz J_1 J_2xx J_2yy J_2zz J_2', real=True)\n",
    "hJ0, hJ1, hJ2 = sp.symbols('\\\\hat{{J}}_0 \\\\hat{{J}}_1 \\\\hat{{J}}_2', real=True)\n",
    "L1, l1, m1, L2, l2, m2 = sp.symbols('L_1 l_1 m_1 L_2 l_2 m_2', real=True)\n",
    "Km, Ue, Kg, Rm = sp.symbols('K_m U_e K_g R_m', real=True)\n",
    "#definietion der Variablen \n",
    "#mit den blauen Variablen kann über Python auf die Werte (also die organgen Werte zugegriffen wertden),\n",
    "print(J1xx) #Ausgabe: J_1xx, somit ist J_xx nur ein Platzhalter bis für diesen ein Wert bekannt ist. \n",
    "\n",
    "\n",
    "\n",
    "\n",
    "\n",
    "\n",
    "Theta1 = sp.Function('\\\\theta_1')(t)\n",
    "#Erstellt eine Funktion in Abhöngigkeit von (t)\n",
    "#Variable = sp.Funktion(Funtkion)(Inabhängigkeit von) --> h=sp.Futnkion('h')(x**2+1) Ausgabe: h(x**2+1)\n",
    "\n",
    "dTheta1 = Theta1.diff(t)\n",
    "#Ist die ableitung der Funktion Theta1 \n",
    "#Funktion.diff(t) -> diff() ist der Ableitungsbefehl -> diff(Ableiten nach, Höhe der Ableitung) \n",
    "#--> Funktion.diff(t, 2) =: 2. Ableitung der Funktion nach t\n",
    "print(dTheta1)\n",
    "\n",
    "\n",
    "Theta2 = sp.Function('\\\\theta_2')(t)\n",
    "dTheta2 = Theta2.diff(t)\n",
    "\n",
    "\n",
    "b1 = sp.Function('b_1')(Theta1.diff(t))\n",
    "#b1 ist die Funktion b1 in abhängikeit von der Abgeleiteten Funktion Theta1 \n",
    "#Variable = sp.Funktion(Funtkion)(Inabhängigkeit von) --> h=sp.Futnkion('h')(x**2+1) Ausgabe: h(x**2+1)\n",
    "\n",
    "\n",
    "hb1 = sp.Function('\\\\hat{b}_1')(Theta1.diff(t))\n",
    "#hat{b_1} = b1 dach  \n",
    "b2 = sp.Function('b_2')(Theta2.diff(t))\n",
    "hnu = sp.Function('\\\\hat{\\\\nu}')(Theta1.diff(t))\n",
    "\n",
    "\n",
    "tau = sp.Function('\\\\tau')(t)\n",
    "s = sp.Function('s')(t)"
   ]
  },
  {
   "cell_type": "markdown",
   "id": "8cfb4ac6-4eb4-4fea-a236-39a5301e7fec",
   "metadata": {},
   "source": [
    "## Trägheitsmomenttensoren"
   ]
  },
  {
   "cell_type": "code",
   "execution_count": 39,
   "id": "504c5bdc-4e5a-4737-b808-cb61900cd3ca",
   "metadata": {},
   "outputs": [],
   "source": [
    "bJ1 = sp.Matrix([[J1xx, 0, 0],\n",
    "                 [0, J1yy, 0],\n",
    "                 [0, 0, J1zz]])\n",
    "bJ2 = sp.Matrix([[J2xx, 0, 0],\n",
    "                 [0, J2yy, 0],\n",
    "                 [0, 0, J2zz]])"
   ]
  },
  {
   "cell_type": "markdown",
   "id": "8af43250-643e-4f29-8dd6-3a072cead8c3",
   "metadata": {},
   "source": [
    "## Rotationsmatrizen"
   ]
  },
  {
   "cell_type": "code",
   "execution_count": 40,
   "id": "8bb13a5a-a947-4bd0-94c6-74ceba4bff81",
   "metadata": {},
   "outputs": [
    {
     "data": {
      "text/latex": [
       "$R_{1} = \\left[\\begin{matrix}\\cos{\\left(\\theta_{1}{\\left(t \\right)} \\right)} & \\sin{\\left(\\theta_{1}{\\left(t \\right)} \\right)} & 0\\\\- \\sin{\\left(\\theta_{1}{\\left(t \\right)} \\right)} & \\cos{\\left(\\theta_{1}{\\left(t \\right)} \\right)} & 0\\\\0 & 0 & 1\\end{matrix}\\right]$"
      ],
      "text/plain": [
       "<IPython.core.display.Latex object>"
      ]
     },
     "metadata": {},
     "output_type": "display_data"
    },
    {
     "data": {
      "text/latex": [
       "$R_{2} = \\left[\\begin{matrix}0 & \\sin{\\left(\\theta_{2}{\\left(t \\right)} \\right)} & - \\cos{\\left(\\theta_{2}{\\left(t \\right)} \\right)}\\\\0 & \\cos{\\left(\\theta_{2}{\\left(t \\right)} \\right)} & \\sin{\\left(\\theta_{2}{\\left(t \\right)} \\right)}\\\\1 & 0 & 0\\end{matrix}\\right]$"
      ],
      "text/plain": [
       "<IPython.core.display.Latex object>"
      ]
     },
     "metadata": {},
     "output_type": "display_data"
    }
   ],
   "source": [
    "R1 = sp.Matrix([[sp.cos(Theta1), sp.sin(Theta1), 0],\n",
    "                [-sp.sin(Theta1), sp.cos(Theta1), 0],\n",
    "                [0, 0, 1]])\n",
    "display(Latex(\"$R_{{1}} = {}$\".format(sp.latex(R1))))\n",
    "R2 = sp.Matrix([[0, sp.sin(Theta2), -sp.cos(Theta2)],\n",
    "                [0, sp.cos(Theta2), sp.sin(Theta2)],\n",
    "                [1, 0, 0]])\n",
    "display(Latex(\"$R_{{2}} = {}$\".format(sp.latex(R2))))"
   ]
  },
  {
   "cell_type": "markdown",
   "id": "952f9715-6256-463e-811a-4cad174c07ef",
   "metadata": {},
   "source": [
    "## Geschwindigkeiten"
   ]
  },
  {
   "cell_type": "markdown",
   "id": "d33aa87a-c4e8-48f4-9ce9-767762f5c67b",
   "metadata": {},
   "source": [
    "### Rotorarm"
   ]
  },
  {
   "cell_type": "code",
   "execution_count": 41,
   "id": "dd4d0162-36c8-4787-9ffc-140774f43756",
   "metadata": {},
   "outputs": [
    {
     "data": {
      "text/latex": [
       "$\\omega_{1} = \\left[\\begin{matrix}0 & 0 & \\frac{d}{d t} \\theta_{1}{\\left(t \\right)}\\end{matrix}\\right]$"
      ],
      "text/plain": [
       "<IPython.core.display.Latex object>"
      ]
     },
     "metadata": {},
     "output_type": "display_data"
    },
    {
     "data": {
      "text/latex": [
       "$v_{1} = \\left[\\begin{matrix}0 & 0 & 0\\end{matrix}\\right]$"
      ],
      "text/plain": [
       "<IPython.core.display.Latex object>"
      ]
     },
     "metadata": {},
     "output_type": "display_data"
    }
   ],
   "source": [
    "w1 = sp.Matrix([[0, 0, dTheta1]])\n",
    "display(Latex(\"$\\\\omega_{{1}} = {}$\".format(sp.latex(w1))))\n",
    "v1 = sp.Matrix([[0, 0, 0]])\n",
    "display(Latex(\"$v_{{1}} = {}$\".format(sp.latex(v1))))"
   ]
  },
  {
   "cell_type": "code",
   "execution_count": 42,
   "id": "19854340-c008-41f4-ac44-8d845278180a",
   "metadata": {},
   "outputs": [
    {
     "data": {
      "text/latex": [
       "$v_{1c} = \\left[\\begin{matrix}0 & l_{1} \\frac{d}{d t} \\theta_{1}{\\left(t \\right)} & 0\\end{matrix}\\right]$"
      ],
      "text/plain": [
       "<IPython.core.display.Latex object>"
      ]
     },
     "metadata": {},
     "output_type": "display_data"
    }
   ],
   "source": [
    "v1c = v1 + w1.cross(sp.Matrix([[l1, 0, 0]]))\n",
    "display(Latex(\"$v_{{1c}} = {}$\".format(sp.latex(v1c))))"
   ]
  },
  {
   "cell_type": "markdown",
   "id": "9bffd332-ac79-431e-909c-bebf6237a938",
   "metadata": {},
   "source": [
    "### Pendelarm"
   ]
  },
  {
   "cell_type": "code",
   "execution_count": 43,
   "id": "1f2a4e59-0c32-41c1-ae45-f285dbf7293e",
   "metadata": {},
   "outputs": [
    {
     "data": {
      "text/latex": [
       "$\\omega_{2} = \\left[\\begin{matrix}- \\cos{\\left(\\theta_{2}{\\left(t \\right)} \\right)} \\frac{d}{d t} \\theta_{1}{\\left(t \\right)}\\\\\\sin{\\left(\\theta_{2}{\\left(t \\right)} \\right)} \\frac{d}{d t} \\theta_{1}{\\left(t \\right)}\\\\\\frac{d}{d t} \\theta_{2}{\\left(t \\right)}\\end{matrix}\\right]$"
      ],
      "text/plain": [
       "<IPython.core.display.Latex object>"
      ]
     },
     "metadata": {},
     "output_type": "display_data"
    }
   ],
   "source": [
    "w2 = R2 * w1.T + sp.Matrix([[0, 0, dTheta2]]).T\n",
    "display(Latex(\"$\\\\omega_{{2}} = {}$\".format(sp.latex(w2))))"
   ]
  },
  {
   "cell_type": "code",
   "execution_count": 44,
   "id": "404a313e-14e9-4607-9924-5ed72d6b5f30",
   "metadata": {},
   "outputs": [
    {
     "data": {
      "text/latex": [
       "$v_{2} = \\left[\\begin{matrix}L_{1} \\sin{\\left(\\theta_{2}{\\left(t \\right)} \\right)} \\frac{d}{d t} \\theta_{1}{\\left(t \\right)}\\\\L_{1} \\cos{\\left(\\theta_{2}{\\left(t \\right)} \\right)} \\frac{d}{d t} \\theta_{1}{\\left(t \\right)}\\\\0\\end{matrix}\\right]$"
      ],
      "text/plain": [
       "<IPython.core.display.Latex object>"
      ]
     },
     "metadata": {},
     "output_type": "display_data"
    }
   ],
   "source": [
    "v2 = R2 * (w1.cross(sp.Matrix([[L1, 0, 0]]))).T\n",
    "display(Latex(\"$v_{{2}} = {}$\".format(sp.latex(v2))))"
   ]
  },
  {
   "cell_type": "code",
   "execution_count": 45,
   "id": "6c3545f5-60e7-4c03-8965-38ed1139d54a",
   "metadata": {},
   "outputs": [
    {
     "data": {
      "text/latex": [
       "$v_{2c} = \\left[\\begin{matrix}L_{1} \\sin{\\left(\\theta_{2}{\\left(t \\right)} \\right)} \\frac{d}{d t} \\theta_{1}{\\left(t \\right)}\\\\L_{1} \\cos{\\left(\\theta_{2}{\\left(t \\right)} \\right)} \\frac{d}{d t} \\theta_{1}{\\left(t \\right)} + l_{2} \\frac{d}{d t} \\theta_{2}{\\left(t \\right)}\\\\- l_{2} \\sin{\\left(\\theta_{2}{\\left(t \\right)} \\right)} \\frac{d}{d t} \\theta_{1}{\\left(t \\right)}\\end{matrix}\\right]$"
      ],
      "text/plain": [
       "<IPython.core.display.Latex object>"
      ]
     },
     "metadata": {},
     "output_type": "display_data"
    }
   ],
   "source": [
    "v2c = v2 + w2.cross(sp.Matrix([[l2, 0, 0]]).T)\n",
    "display(Latex(\"$v_{{2c}} = {}$\".format(sp.latex(v2c))))"
   ]
  },
  {
   "cell_type": "markdown",
   "id": "48f18059-bc57-4538-bcde-a73fcea88ea6",
   "metadata": {},
   "source": [
    "## Energien"
   ]
  },
  {
   "cell_type": "markdown",
   "id": "c824ef72-8dc2-409f-aaef-045abaef6550",
   "metadata": {},
   "source": [
    "### potentielle Energie"
   ]
  },
  {
   "cell_type": "markdown",
   "id": "248c2061-497c-4bd1-a64f-5efee5e42f81",
   "metadata": {},
   "source": [
    "**Rotorarm**"
   ]
  },
  {
   "cell_type": "code",
   "execution_count": 46,
   "id": "0b5dbeec-d675-4d69-b88c-977d31538465",
   "metadata": {},
   "outputs": [
    {
     "data": {
      "text/latex": [
       "$E_{p,1} = 0$"
      ],
      "text/plain": [
       "<IPython.core.display.Latex object>"
      ]
     },
     "metadata": {},
     "output_type": "display_data"
    }
   ],
   "source": [
    "Ep1 = 0\n",
    "display(Latex(\"$E_{{p,1}} = {}$\".format(sp.latex(Ep1))))"
   ]
  },
  {
   "cell_type": "markdown",
   "id": "a16e643a-992b-45f1-bdb7-d0a8a8d1a72d",
   "metadata": {},
   "source": [
    "**Pendelarm**"
   ]
  },
  {
   "cell_type": "code",
   "execution_count": 47,
   "id": "3d9bd04f-2cee-4c10-9744-e9e66efb34c3",
   "metadata": {},
   "outputs": [
    {
     "data": {
      "text/latex": [
       "$E_{p,2} = g l_{2} m_{2} \\left(1 - \\cos{\\left(\\theta_{2}{\\left(t \\right)} \\right)}\\right)$"
      ],
      "text/plain": [
       "<IPython.core.display.Latex object>"
      ]
     },
     "metadata": {},
     "output_type": "display_data"
    }
   ],
   "source": [
    "Ep2 = g * m2 * l2 * (1 - sp.cos(Theta2))\n",
    "display(Latex(\"$E_{{p,2}} = {}$\".format(sp.latex(Ep2))))"
   ]
  },
  {
   "cell_type": "code",
   "execution_count": 48,
   "id": "2dac52b3-0e0e-42bd-a8fe-84c444e79cb8",
   "metadata": {},
   "outputs": [
    {
     "data": {
      "text/latex": [
       "$E_{p} = g l_{2} m_{2} \\left(1 - \\cos{\\left(\\theta_{2}{\\left(t \\right)} \\right)}\\right)$"
      ],
      "text/plain": [
       "<IPython.core.display.Latex object>"
      ]
     },
     "metadata": {},
     "output_type": "display_data"
    }
   ],
   "source": [
    "Ep = sp.simplify(Ep1 + Ep2)\n",
    "display(Latex(\"$E_{{p}} = {}$\".format(sp.latex(Ep))))"
   ]
  },
  {
   "cell_type": "markdown",
   "id": "06579a1e-ff60-4986-bc69-72f82d3d3d7e",
   "metadata": {},
   "source": [
    "### kinetische Energie"
   ]
  },
  {
   "cell_type": "markdown",
   "id": "71d654fc-2abd-483e-bb81-329990c4c053",
   "metadata": {},
   "source": [
    "**Rotorarm**"
   ]
  },
  {
   "cell_type": "code",
   "execution_count": 49,
   "id": "5e098097-3f67-4195-b2d3-37f71d7d8c4a",
   "metadata": {},
   "outputs": [
    {
     "data": {
      "text/latex": [
       "$E_{k,1} = 0.5 J_{1zz} \\left(\\frac{d}{d t} \\theta_{1}{\\left(t \\right)}\\right)^{2} + 0.5 l_{1}^{2} m_{1} \\left(\\frac{d}{d t} \\theta_{1}{\\left(t \\right)}\\right)^{2}$"
      ],
      "text/plain": [
       "<IPython.core.display.Latex object>"
      ]
     },
     "metadata": {},
     "output_type": "display_data"
    }
   ],
   "source": [
    "Ek1 = 0.5 * (v1c * m1 * v1c.T + w1 * bJ1 * w1.T)[0]\n",
    "display(Latex(\"$E_{{k,1}} = {}$\".format(sp.latex(Ek1))))"
   ]
  },
  {
   "cell_type": "markdown",
   "id": "c0cad998-ade2-4a9b-a2e8-a501d4fb2338",
   "metadata": {},
   "source": [
    "**Pendelarm**"
   ]
  },
  {
   "cell_type": "code",
   "execution_count": 50,
   "id": "a60adbb0-8ddb-4fa2-a80b-b5f923497522",
   "metadata": {},
   "outputs": [
    {
     "data": {
      "text/latex": [
       "$E_{k,2} = - 0.5 J_{2xx} \\sin^{2}{\\left(\\theta_{2}{\\left(t \\right)} \\right)} \\left(\\frac{d}{d t} \\theta_{1}{\\left(t \\right)}\\right)^{2} + 0.5 J_{2xx} \\left(\\frac{d}{d t} \\theta_{1}{\\left(t \\right)}\\right)^{2} + 0.5 J_{2yy} \\sin^{2}{\\left(\\theta_{2}{\\left(t \\right)} \\right)} \\left(\\frac{d}{d t} \\theta_{1}{\\left(t \\right)}\\right)^{2} + 0.5 J_{2zz} \\left(\\frac{d}{d t} \\theta_{2}{\\left(t \\right)}\\right)^{2} + 0.5 L_{1}^{2} m_{2} \\left(\\frac{d}{d t} \\theta_{1}{\\left(t \\right)}\\right)^{2} + 1.0 L_{1} l_{2} m_{2} \\cos{\\left(\\theta_{2}{\\left(t \\right)} \\right)} \\frac{d}{d t} \\theta_{1}{\\left(t \\right)} \\frac{d}{d t} \\theta_{2}{\\left(t \\right)} + 0.5 l_{2}^{2} m_{2} \\sin^{2}{\\left(\\theta_{2}{\\left(t \\right)} \\right)} \\left(\\frac{d}{d t} \\theta_{1}{\\left(t \\right)}\\right)^{2} + 0.5 l_{2}^{2} m_{2} \\left(\\frac{d}{d t} \\theta_{2}{\\left(t \\right)}\\right)^{2}$"
      ],
      "text/plain": [
       "<IPython.core.display.Latex object>"
      ]
     },
     "metadata": {},
     "output_type": "display_data"
    }
   ],
   "source": [
    "Ek2 = 0.5 * (v2c.T * m2 * v2c + w2.T * bJ2 * w2)[0]\n",
    "display(Latex(\"$E_{{k,2}} = {}$\".format(sp.latex(sp.simplify(sp.expand(Ek2))))))"
   ]
  },
  {
   "cell_type": "code",
   "execution_count": 51,
   "id": "1a0d4c5f-20bc-457e-8841-442f427be29a",
   "metadata": {},
   "outputs": [
    {
     "data": {
      "text/latex": [
       "$E_{k} = 0.5 J_{1zz} \\left(\\frac{d}{d t} \\theta_{1}{\\left(t \\right)}\\right)^{2} - 0.5 J_{2xx} \\sin^{2}{\\left(\\theta_{2}{\\left(t \\right)} \\right)} \\left(\\frac{d}{d t} \\theta_{1}{\\left(t \\right)}\\right)^{2} + 0.5 J_{2xx} \\left(\\frac{d}{d t} \\theta_{1}{\\left(t \\right)}\\right)^{2} + 0.5 J_{2yy} \\sin^{2}{\\left(\\theta_{2}{\\left(t \\right)} \\right)} \\left(\\frac{d}{d t} \\theta_{1}{\\left(t \\right)}\\right)^{2} + 0.5 J_{2zz} \\left(\\frac{d}{d t} \\theta_{2}{\\left(t \\right)}\\right)^{2} + 0.5 L_{1}^{2} m_{2} \\left(\\frac{d}{d t} \\theta_{1}{\\left(t \\right)}\\right)^{2} + 1.0 L_{1} l_{2} m_{2} \\cos{\\left(\\theta_{2}{\\left(t \\right)} \\right)} \\frac{d}{d t} \\theta_{1}{\\left(t \\right)} \\frac{d}{d t} \\theta_{2}{\\left(t \\right)} + 0.5 l_{1}^{2} m_{1} \\left(\\frac{d}{d t} \\theta_{1}{\\left(t \\right)}\\right)^{2} + 0.5 l_{2}^{2} m_{2} \\sin^{2}{\\left(\\theta_{2}{\\left(t \\right)} \\right)} \\left(\\frac{d}{d t} \\theta_{1}{\\left(t \\right)}\\right)^{2} + 0.5 l_{2}^{2} m_{2} \\left(\\frac{d}{d t} \\theta_{2}{\\left(t \\right)}\\right)^{2}$"
      ],
      "text/plain": [
       "<IPython.core.display.Latex object>"
      ]
     },
     "metadata": {},
     "output_type": "display_data"
    }
   ],
   "source": [
    "Ek = sp.simplify(Ek1 + Ek2)\n",
    "display(Latex(\"$E_{{k}} = {}$\".format(sp.latex(Ek))))"
   ]
  },
  {
   "cell_type": "markdown",
   "id": "dbf1c8d7-c713-40f6-84bc-4f4de208ab20",
   "metadata": {},
   "source": [
    "## Lagrangian"
   ]
  },
  {
   "cell_type": "code",
   "execution_count": 52,
   "id": "e0ec415c-68ca-4c7f-a062-6df4e76ed442",
   "metadata": {},
   "outputs": [
    {
     "data": {
      "text/latex": [
       "$L = 0.5 J_{1zz} \\left(\\frac{d}{d t} \\theta_{1}{\\left(t \\right)}\\right)^{2} - 0.5 J_{2xx} \\sin^{2}{\\left(\\theta_{2}{\\left(t \\right)} \\right)} \\left(\\frac{d}{d t} \\theta_{1}{\\left(t \\right)}\\right)^{2} + 0.5 J_{2xx} \\left(\\frac{d}{d t} \\theta_{1}{\\left(t \\right)}\\right)^{2} + 0.5 J_{2yy} \\sin^{2}{\\left(\\theta_{2}{\\left(t \\right)} \\right)} \\left(\\frac{d}{d t} \\theta_{1}{\\left(t \\right)}\\right)^{2} + 0.5 J_{2zz} \\left(\\frac{d}{d t} \\theta_{2}{\\left(t \\right)}\\right)^{2} + 0.5 L_{1}^{2} m_{2} \\left(\\frac{d}{d t} \\theta_{1}{\\left(t \\right)}\\right)^{2} + 1.0 L_{1} l_{2} m_{2} \\cos{\\left(\\theta_{2}{\\left(t \\right)} \\right)} \\frac{d}{d t} \\theta_{1}{\\left(t \\right)} \\frac{d}{d t} \\theta_{2}{\\left(t \\right)} - g l_{2} m_{2} \\left(1 - \\cos{\\left(\\theta_{2}{\\left(t \\right)} \\right)}\\right) + 0.5 l_{1}^{2} m_{1} \\left(\\frac{d}{d t} \\theta_{1}{\\left(t \\right)}\\right)^{2} + 0.5 l_{2}^{2} m_{2} \\sin^{2}{\\left(\\theta_{2}{\\left(t \\right)} \\right)} \\left(\\frac{d}{d t} \\theta_{1}{\\left(t \\right)}\\right)^{2} + 0.5 l_{2}^{2} m_{2} \\left(\\frac{d}{d t} \\theta_{2}{\\left(t \\right)}\\right)^{2}$"
      ],
      "text/plain": [
       "<IPython.core.display.Latex object>"
      ]
     },
     "metadata": {},
     "output_type": "display_data"
    }
   ],
   "source": [
    "L = Ek - Ep\n",
    "display(Latex(\"$L = {}$\".format(sp.latex(L))))"
   ]
  },
  {
   "cell_type": "markdown",
   "id": "c07b891b-4ce7-4b8e-b71a-141b46ef085a",
   "metadata": {
    "tags": []
   },
   "source": [
    "## Nichtlineares Gesamtsystem"
   ]
  },
  {
   "cell_type": "code",
   "execution_count": 53,
   "id": "a4bd994a-d300-4b37-a763-1bdf8378f911",
   "metadata": {},
   "outputs": [],
   "source": [
    "EL1 = sp.simplify(L.diff(dTheta1).diff(t) + b1 - L.diff(Theta1) - tau)\n",
    "EL2 = sp.simplify(L.diff(dTheta2).diff(t) + b2 - L.diff(Theta2))"
   ]
  },
  {
   "cell_type": "code",
   "execution_count": 54,
   "id": "744c4c68-987b-4207-a7b1-47bffcb30bfc",
   "metadata": {},
   "outputs": [
    {
     "data": {
      "text/latex": [
       "$0 = \\left[\\begin{matrix}1.0 J_{1zz} \\frac{d^{2}}{d t^{2}} \\theta_{1}{\\left(t \\right)} - 1.0 J_{2xx} \\sin^{2}{\\left(\\theta_{2}{\\left(t \\right)} \\right)} \\frac{d^{2}}{d t^{2}} \\theta_{1}{\\left(t \\right)} - 1.0 J_{2xx} \\sin{\\left(2 \\theta_{2}{\\left(t \\right)} \\right)} \\frac{d}{d t} \\theta_{1}{\\left(t \\right)} \\frac{d}{d t} \\theta_{2}{\\left(t \\right)} + 1.0 J_{2xx} \\frac{d^{2}}{d t^{2}} \\theta_{1}{\\left(t \\right)} + 1.0 J_{2yy} \\sin^{2}{\\left(\\theta_{2}{\\left(t \\right)} \\right)} \\frac{d^{2}}{d t^{2}} \\theta_{1}{\\left(t \\right)} + 1.0 J_{2yy} \\sin{\\left(2 \\theta_{2}{\\left(t \\right)} \\right)} \\frac{d}{d t} \\theta_{1}{\\left(t \\right)} \\frac{d}{d t} \\theta_{2}{\\left(t \\right)} + 1.0 L_{1}^{2} m_{2} \\frac{d^{2}}{d t^{2}} \\theta_{1}{\\left(t \\right)} - 1.0 L_{1} l_{2} m_{2} \\sin{\\left(\\theta_{2}{\\left(t \\right)} \\right)} \\left(\\frac{d}{d t} \\theta_{2}{\\left(t \\right)}\\right)^{2} + 1.0 L_{1} l_{2} m_{2} \\cos{\\left(\\theta_{2}{\\left(t \\right)} \\right)} \\frac{d^{2}}{d t^{2}} \\theta_{2}{\\left(t \\right)} + 1.0 l_{1}^{2} m_{1} \\frac{d^{2}}{d t^{2}} \\theta_{1}{\\left(t \\right)} + 1.0 l_{2}^{2} m_{2} \\sin^{2}{\\left(\\theta_{2}{\\left(t \\right)} \\right)} \\frac{d^{2}}{d t^{2}} \\theta_{1}{\\left(t \\right)} + 1.0 l_{2}^{2} m_{2} \\sin{\\left(2 \\theta_{2}{\\left(t \\right)} \\right)} \\frac{d}{d t} \\theta_{1}{\\left(t \\right)} \\frac{d}{d t} \\theta_{2}{\\left(t \\right)} - \\tau{\\left(t \\right)} + b_{1}{\\left(\\frac{d}{d t} \\theta_{1}{\\left(t \\right)} \\right)}\\\\0.5 J_{2xx} \\sin{\\left(2 \\theta_{2}{\\left(t \\right)} \\right)} \\left(\\frac{d}{d t} \\theta_{1}{\\left(t \\right)}\\right)^{2} - 0.5 J_{2yy} \\sin{\\left(2 \\theta_{2}{\\left(t \\right)} \\right)} \\left(\\frac{d}{d t} \\theta_{1}{\\left(t \\right)}\\right)^{2} + 1.0 J_{2zz} \\frac{d^{2}}{d t^{2}} \\theta_{2}{\\left(t \\right)} + 1.0 L_{1} l_{2} m_{2} \\cos{\\left(\\theta_{2}{\\left(t \\right)} \\right)} \\frac{d^{2}}{d t^{2}} \\theta_{1}{\\left(t \\right)} + 1.0 g l_{2} m_{2} \\sin{\\left(\\theta_{2}{\\left(t \\right)} \\right)} - 0.5 l_{2}^{2} m_{2} \\sin{\\left(2 \\theta_{2}{\\left(t \\right)} \\right)} \\left(\\frac{d}{d t} \\theta_{1}{\\left(t \\right)}\\right)^{2} + 1.0 l_{2}^{2} m_{2} \\frac{d^{2}}{d t^{2}} \\theta_{2}{\\left(t \\right)} + 1.0 b_{2}{\\left(\\frac{d}{d t} \\theta_{2}{\\left(t \\right)} \\right)}\\end{matrix}\\right]$"
      ],
      "text/plain": [
       "<IPython.core.display.Latex object>"
      ]
     },
     "metadata": {},
     "output_type": "display_data"
    }
   ],
   "source": [
    "EL = sp.Matrix([[EL1], [EL2]])\n",
    "display(Latex(\"$0 = {}$\".format(sp.latex(EL))))"
   ]
  },
  {
   "cell_type": "markdown",
   "id": "2620e218-14c4-45f5-8730-7a6ae2b052b3",
   "metadata": {},
   "source": [
    "## Vereinfachungen"
   ]
  },
  {
   "cell_type": "markdown",
   "id": "b9b9feb1-8614-4b13-8848-2afaf54411e4",
   "metadata": {},
   "source": [
    "### Trägheitsmomenttensoren"
   ]
  },
  {
   "cell_type": "code",
   "execution_count": 55,
   "id": "d003748a-cf06-42e8-b106-888d25669aba",
   "metadata": {},
   "outputs": [],
   "source": [
    "sbJ1 = sp.Matrix([[0, 0, 0],\n",
    "                  [0, 0, 0],\n",
    "                  [0, 0, J1]])\n",
    "sbJ2 = sp.Matrix([[0, 0, 0],\n",
    "                  [0, J2, 0],\n",
    "                  [0, 0, J2]])"
   ]
  },
  {
   "cell_type": "markdown",
   "id": "cc212ddc-a675-4772-8916-234c54e34c45",
   "metadata": {},
   "source": [
    "### kinetische Energien"
   ]
  },
  {
   "cell_type": "code",
   "execution_count": 56,
   "id": "6d873aa2-4ed3-408e-83a7-53c140437574",
   "metadata": {},
   "outputs": [
    {
     "data": {
      "text/latex": [
       "$E_{k,1} = 0.5 J_{1} \\left(\\frac{d}{d t} \\theta_{1}{\\left(t \\right)}\\right)^{2} + 0.5 l_{1}^{2} m_{1} \\left(\\frac{d}{d t} \\theta_{1}{\\left(t \\right)}\\right)^{2}$"
      ],
      "text/plain": [
       "<IPython.core.display.Latex object>"
      ]
     },
     "metadata": {},
     "output_type": "display_data"
    },
    {
     "data": {
      "text/latex": [
       "$E_{k,2} = 0.5 J_{2} \\sin^{2}{\\left(\\theta_{2}{\\left(t \\right)} \\right)} \\left(\\frac{d}{d t} \\theta_{1}{\\left(t \\right)}\\right)^{2} + 0.5 J_{2} \\left(\\frac{d}{d t} \\theta_{2}{\\left(t \\right)}\\right)^{2} + 0.5 L_{1}^{2} m_{2} \\sin^{2}{\\left(\\theta_{2}{\\left(t \\right)} \\right)} \\left(\\frac{d}{d t} \\theta_{1}{\\left(t \\right)}\\right)^{2} + 0.5 l_{2}^{2} m_{2} \\sin^{2}{\\left(\\theta_{2}{\\left(t \\right)} \\right)} \\left(\\frac{d}{d t} \\theta_{1}{\\left(t \\right)}\\right)^{2} + 0.5 m_{2} \\left(L_{1} \\cos{\\left(\\theta_{2}{\\left(t \\right)} \\right)} \\frac{d}{d t} \\theta_{1}{\\left(t \\right)} + l_{2} \\frac{d}{d t} \\theta_{2}{\\left(t \\right)}\\right)^{2}$"
      ],
      "text/plain": [
       "<IPython.core.display.Latex object>"
      ]
     },
     "metadata": {},
     "output_type": "display_data"
    },
    {
     "data": {
      "text/latex": [
       "$E_{k} = 0.5 J_{1} \\left(\\frac{d}{d t} \\theta_{1}{\\left(t \\right)}\\right)^{2} + 0.5 J_{2} \\sin^{2}{\\left(\\theta_{2}{\\left(t \\right)} \\right)} \\left(\\frac{d}{d t} \\theta_{1}{\\left(t \\right)}\\right)^{2} + 0.5 J_{2} \\left(\\frac{d}{d t} \\theta_{2}{\\left(t \\right)}\\right)^{2} + 0.5 L_{1}^{2} m_{2} \\left(\\frac{d}{d t} \\theta_{1}{\\left(t \\right)}\\right)^{2} + 1.0 L_{1} l_{2} m_{2} \\cos{\\left(\\theta_{2}{\\left(t \\right)} \\right)} \\frac{d}{d t} \\theta_{1}{\\left(t \\right)} \\frac{d}{d t} \\theta_{2}{\\left(t \\right)} + 0.5 l_{1}^{2} m_{1} \\left(\\frac{d}{d t} \\theta_{1}{\\left(t \\right)}\\right)^{2} + 0.5 l_{2}^{2} m_{2} \\sin^{2}{\\left(\\theta_{2}{\\left(t \\right)} \\right)} \\left(\\frac{d}{d t} \\theta_{1}{\\left(t \\right)}\\right)^{2} + 0.5 l_{2}^{2} m_{2} \\left(\\frac{d}{d t} \\theta_{2}{\\left(t \\right)}\\right)^{2}$"
      ],
      "text/plain": [
       "<IPython.core.display.Latex object>"
      ]
     },
     "metadata": {},
     "output_type": "display_data"
    }
   ],
   "source": [
    "sEk1 = 0.5 * (v1c * m1 * v1c.T + w1 * sbJ1 * w1.T)[0]\n",
    "display(Latex(\"$E_{{k,1}} = {}$\".format(sp.latex(sEk1))))\n",
    "sEk2 = 0.5 * (v2c.T * m2 * v2c + w2.T * sbJ2 * w2)[0]\n",
    "display(Latex(\"$E_{{k,2}} = {}$\".format(sp.latex(sEk2))))\n",
    "sEk = sp.simplify(sEk1 + sEk2)\n",
    "display(Latex(\"$E_{{k}} = {}$\".format(sp.latex(sEk))))"
   ]
  },
  {
   "cell_type": "markdown",
   "id": "b984735a-c7f2-40f9-8ce8-687b5e20d4de",
   "metadata": {},
   "source": [
    "### Lagrangian"
   ]
  },
  {
   "cell_type": "code",
   "execution_count": 57,
   "id": "3e788b6c-8b33-467e-a934-917b818800c6",
   "metadata": {},
   "outputs": [
    {
     "data": {
      "text/latex": [
       "$L = 0.5 J_{1} \\left(\\frac{d}{d t} \\theta_{1}{\\left(t \\right)}\\right)^{2} + 0.5 J_{2} \\sin^{2}{\\left(\\theta_{2}{\\left(t \\right)} \\right)} \\left(\\frac{d}{d t} \\theta_{1}{\\left(t \\right)}\\right)^{2} + 0.5 J_{2} \\left(\\frac{d}{d t} \\theta_{2}{\\left(t \\right)}\\right)^{2} + 0.5 L_{1}^{2} m_{2} \\left(\\frac{d}{d t} \\theta_{1}{\\left(t \\right)}\\right)^{2} + 1.0 L_{1} l_{2} m_{2} \\cos{\\left(\\theta_{2}{\\left(t \\right)} \\right)} \\frac{d}{d t} \\theta_{1}{\\left(t \\right)} \\frac{d}{d t} \\theta_{2}{\\left(t \\right)} - g l_{2} m_{2} \\left(1 - \\cos{\\left(\\theta_{2}{\\left(t \\right)} \\right)}\\right) + 0.5 l_{1}^{2} m_{1} \\left(\\frac{d}{d t} \\theta_{1}{\\left(t \\right)}\\right)^{2} + 0.5 l_{2}^{2} m_{2} \\sin^{2}{\\left(\\theta_{2}{\\left(t \\right)} \\right)} \\left(\\frac{d}{d t} \\theta_{1}{\\left(t \\right)}\\right)^{2} + 0.5 l_{2}^{2} m_{2} \\left(\\frac{d}{d t} \\theta_{2}{\\left(t \\right)}\\right)^{2}$"
      ],
      "text/plain": [
       "<IPython.core.display.Latex object>"
      ]
     },
     "metadata": {},
     "output_type": "display_data"
    }
   ],
   "source": [
    "sL = sEk - Ep\n",
    "display(Latex(\"$L = {}$\".format(sp.latex(sL))))"
   ]
  },
  {
   "cell_type": "markdown",
   "id": "89d218ee-74cb-488b-a3b3-808a74fb1e32",
   "metadata": {},
   "source": [
    "### Nichtlineares Gesamtsystem"
   ]
  },
  {
   "cell_type": "code",
   "execution_count": 58,
   "id": "7bf27416-77e6-4ec2-8552-e99b8c0e6909",
   "metadata": {},
   "outputs": [],
   "source": [
    "sEL1 = sp.simplify(sL.diff(dTheta1).diff(t) + b1 - sL.diff(Theta1) - tau).subs({1.0 * J2 * sp.sin(2 * Theta2) * dTheta1 * dTheta2 + 1.0 * l2 ** 2 * m2 * sp.sin(2 * Theta2) * dTheta1 * dTheta2: hJ2 * sp.sin(2 * Theta2) * dTheta1 * dTheta2,\n",
    "                                                                                1.0 * J2 * sp.sin(Theta2) ** 2 * dTheta1.diff(t) + 1.0 * l2 ** 2 * m2 * sp.sin(Theta2) ** 2 * dTheta1.diff(t): hJ2 * sp.sin(Theta2) ** 2 * dTheta1.diff(t),\n",
    "                                                                                1.0 * J1 * dTheta1.diff(t) + 1.0 * L1 ** 2 * m2 * dTheta1.diff(t) + 1.0 * l1 ** 2 * m1 * dTheta1.diff(t): hJ0 * dTheta1.diff(t)})\n",
    "sEL2 = sp.simplify(sL.diff(dTheta2).diff(t) + b2 - sL.diff(Theta2)).subs({1.0 * J2 * dTheta2.diff(t) + 1.0 * l2 ** 2 * m2 * dTheta2.diff(t): hJ2 * dTheta2.diff(t),\n",
    "                                                                          -0.5 * J2 * sp.sin(2 * Theta2) * dTheta1 ** 2 -0.5 * l2 ** 2 * m2 * sp.sin(2 * Theta2) * dTheta1 ** 2: -0.5 * hJ2 * sp.sin(2 * Theta2) * dTheta1 ** 2})"
   ]
  },
  {
   "cell_type": "code",
   "execution_count": 59,
   "id": "fc2eecdf-7c68-4f6e-a7d3-4f0953175240",
   "metadata": {},
   "outputs": [
    {
     "data": {
      "text/latex": [
       "$0 = \\left[\\begin{matrix}- 1.0 L_{1} l_{2} m_{2} \\sin{\\left(\\theta_{2}{\\left(t \\right)} \\right)} \\left(\\frac{d}{d t} \\theta_{2}{\\left(t \\right)}\\right)^{2} + 1.0 L_{1} l_{2} m_{2} \\cos{\\left(\\theta_{2}{\\left(t \\right)} \\right)} \\frac{d^{2}}{d t^{2}} \\theta_{2}{\\left(t \\right)} + \\hat{{J}}_0 \\frac{d^{2}}{d t^{2}} \\theta_{1}{\\left(t \\right)} + \\hat{{J}}_2 \\sin^{2}{\\left(\\theta_{2}{\\left(t \\right)} \\right)} \\frac{d^{2}}{d t^{2}} \\theta_{1}{\\left(t \\right)} + \\hat{{J}}_2 \\sin{\\left(2 \\theta_{2}{\\left(t \\right)} \\right)} \\frac{d}{d t} \\theta_{1}{\\left(t \\right)} \\frac{d}{d t} \\theta_{2}{\\left(t \\right)} - \\tau{\\left(t \\right)} + b_{1}{\\left(\\frac{d}{d t} \\theta_{1}{\\left(t \\right)} \\right)}\\\\1.0 L_{1} l_{2} m_{2} \\cos{\\left(\\theta_{2}{\\left(t \\right)} \\right)} \\frac{d^{2}}{d t^{2}} \\theta_{1}{\\left(t \\right)} - 0.5 \\hat{{J}}_2 \\sin{\\left(2 \\theta_{2}{\\left(t \\right)} \\right)} \\left(\\frac{d}{d t} \\theta_{1}{\\left(t \\right)}\\right)^{2} + \\hat{{J}}_2 \\frac{d^{2}}{d t^{2}} \\theta_{2}{\\left(t \\right)} + 1.0 g l_{2} m_{2} \\sin{\\left(\\theta_{2}{\\left(t \\right)} \\right)} + 1.0 b_{2}{\\left(\\frac{d}{d t} \\theta_{2}{\\left(t \\right)} \\right)}\\end{matrix}\\right]$"
      ],
      "text/plain": [
       "<IPython.core.display.Latex object>"
      ]
     },
     "metadata": {},
     "output_type": "display_data"
    }
   ],
   "source": [
    "sEL = sp.Matrix([[sEL1], [sEL2]])\n",
    "display(Latex(\"$0 = {}$\".format(sp.latex(sEL))))"
   ]
  },
  {
   "cell_type": "markdown",
   "id": "844d7608-1760-4496-957d-3ca4b53a9b10",
   "metadata": {},
   "source": [
    "## Eingang und Reibung"
   ]
  },
  {
   "cell_type": "code",
   "execution_count": 60,
   "id": "d6dc7fab-5866-4ce6-931a-d3c69186ff34",
   "metadata": {},
   "outputs": [
    {
     "data": {
      "text/latex": [
       "$0 = \\left[\\begin{matrix}- 1.0 L_{1} l_{2} m_{2} \\sin{\\left(\\theta_{2}{\\left(t \\right)} \\right)} \\left(\\frac{d}{d t} \\theta_{2}{\\left(t \\right)}\\right)^{2} + 1.0 L_{1} l_{2} m_{2} \\cos{\\left(\\theta_{2}{\\left(t \\right)} \\right)} \\frac{d^{2}}{d t^{2}} \\theta_{2}{\\left(t \\right)} + \\hat{{J}}_0 \\frac{d^{2}}{d t^{2}} \\theta_{1}{\\left(t \\right)} + \\hat{{J}}_2 \\sin^{2}{\\left(\\theta_{2}{\\left(t \\right)} \\right)} \\frac{d^{2}}{d t^{2}} \\theta_{1}{\\left(t \\right)} + \\hat{{J}}_2 \\sin{\\left(2 \\theta_{2}{\\left(t \\right)} \\right)} \\frac{d}{d t} \\theta_{1}{\\left(t \\right)} \\frac{d}{d t} \\theta_{2}{\\left(t \\right)} + \\hat{b}_1{\\left(\\frac{d}{d t} \\theta_{1}{\\left(t \\right)} \\right)} - \\frac{K_{m} U_{e} s{\\left(t \\right)}}{K_{g} R_{m}}\\\\1.0 L_{1} l_{2} m_{2} \\cos{\\left(\\theta_{2}{\\left(t \\right)} \\right)} \\frac{d^{2}}{d t^{2}} \\theta_{1}{\\left(t \\right)} - 0.5 \\hat{{J}}_2 \\sin{\\left(2 \\theta_{2}{\\left(t \\right)} \\right)} \\left(\\frac{d}{d t} \\theta_{1}{\\left(t \\right)}\\right)^{2} + \\hat{{J}}_2 \\frac{d^{2}}{d t^{2}} \\theta_{2}{\\left(t \\right)} + 1.0 g l_{2} m_{2} \\sin{\\left(\\theta_{2}{\\left(t \\right)} \\right)} + 1.0 b_{2}{\\left(\\frac{d}{d t} \\theta_{2}{\\left(t \\right)} \\right)}\\end{matrix}\\right]$"
      ],
      "text/plain": [
       "<IPython.core.display.Latex object>"
      ]
     },
     "metadata": {},
     "output_type": "display_data"
    }
   ],
   "source": [
    "torque = [(tau, Km * Ue / (Kg * Rm) * s - hnu)]\n",
    "damp = [(b1 + hnu, hb1)]\n",
    "sEL = sp.Matrix([[sp.simplify(sEL1.subs(torque).subs(damp))], [sp.simplify(sEL2.subs(torque).subs(damp))]])\n",
    "display(Latex(\"$0 = {}$\".format(sp.latex(sEL))))"
   ]
  },
  {
   "cell_type": "markdown",
   "id": "478aac72",
   "metadata": {},
   "source": [
    "## Start der Aufgaben \n",
    "\n",
    "Implementierung der Symbole: "
   ]
  },
  {
   "cell_type": "code",
   "execution_count": 61,
   "id": "cf157984",
   "metadata": {},
   "outputs": [],
   "source": [
    "# Symbole definieren\n",
    "\n",
    "\n",
    "tau, m2, L1, l2, J2, J0, g = sp.symbols('tau m2 L1 l2 J2 J0 g', real=True)\n",
    "x2, x3, x4 = sp.symbols('x2 x3 x4', real=True)\n",
    "# sp.symbols: erstellt symbolische Variablen die zu math. Berechnung genutzt werden können \n",
    "# real=True: gibt den Variablen die Eigenschaft, das Sie nur reelle wErte annehmen dürfen (Komplexe Zahl nicht möglich)\n",
    "\n",
    "\n",
    "\n",
    "\n",
    "b1, b2 = sp.Function('b1'), sp.Function('b2')\n",
    "# sp.Funktion erstellt eine Objekt als Funktion welches mehrere Variablen und Argumente besitzen kann \n"
   ]
  },
  {
   "cell_type": "markdown",
   "id": "6906e552",
   "metadata": {},
   "source": [
    "Implementierung der Zustandsdarstellung "
   ]
  },
  {
   "cell_type": "code",
   "execution_count": 62,
   "id": "3fae01dc",
   "metadata": {},
   "outputs": [
    {
     "name": "stdout",
     "output_type": "stream",
     "text": [
      "x1 Punkt: theta_1_dot\n",
      "x2 Punkt (-J2*x2*sin(2*x3) - L1*l2*m2*(-sin(x3)*Derivative(x4, t)**2 + cos(x3)*Derivative(x4, t)) + tau - b1(x2))/(J0 + J2*sin(x3)**2)\n",
      "x3 Punkt: theta_2_dot\n",
      "x4 Punkt: 0.5*x2**2*sin(2*x3) - (L1*l2*m2*cos(x3)*Derivative(x2, t) + g*l2*m2*sin(x3) + b2(x4))/J2\n"
     ]
    }
   ],
   "source": [
    "x1_dot = sp.symbols('theta_1_dot', real=True)  # θ₁ Punkt\n",
    "x3_dot = sp.symbols('theta_2_dot', real=True)  # θ₂ Punkt\n",
    "\n",
    "# Gleichung 2ab: Berechnung von x2_dot\n",
    "x2_dot = (tau\n",
    "          - m2 * L1 * l2 * (sp.cos(x3) * sp.Derivative(x4, 't') - sp.sin(x3) * sp.Derivative(x4, 't')**2)\n",
    "          - J2 * sp.sin(2 * x3) * x2\n",
    "          - b1(x2)) / (J0 + J2 * sp.sin(x3)**2)\n",
    "\n",
    "\n",
    "# Gleichung 2bb: Berechnung von x4_dot\n",
    "x4_dot = (1 / 2 * sp.sin(2 * x3) * x2**2\n",
    "          - 1 / J2 * (m2 * L1 * l2 * sp.cos(x3) * sp.Derivative(x2, 't')\n",
    "          + b2(x4)\n",
    "          + m2 * l2 * g * sp.sin(x3)))\n",
    "\n",
    "print(\"x1 Punkt:\", x1_dot)\n",
    "print(\"x2 Punkt\", x2_dot)\n",
    "print(\"x3 Punkt:\", x3_dot)\n",
    "print(\"x4 Punkt:\", x4_dot)\n",
    "\n"
   ]
  }
 ],
 "metadata": {
  "kernelspec": {
   "display_name": "Python 3",
   "language": "python",
   "name": "python3"
  },
  "language_info": {
   "codemirror_mode": {
    "name": "ipython",
    "version": 3
   },
   "file_extension": ".py",
   "mimetype": "text/x-python",
   "name": "python",
   "nbconvert_exporter": "python",
   "pygments_lexer": "ipython3",
   "version": "3.13.1"
  }
 },
 "nbformat": 4,
 "nbformat_minor": 5
}
